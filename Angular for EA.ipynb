{
 "metadata": {
  "name": "",
  "signature": "sha256:0e6fe5338d6d6a475014e5a7e2b8edc9a90d64c3bff9fed52dd1621d4b4c6505"
 },
 "nbformat": 3,
 "nbformat_minor": 0,
 "worksheets": [
  {
   "cells": [
    {
     "cell_type": "heading",
     "level": 1,
     "metadata": {},
     "source": [
      "$Yachtum$ con <a href=\"https://angularjs.org/\">AngularJS</a> para EA"
     ]
    },
    {
     "cell_type": "markdown",
     "metadata": {},
     "source": [
      "<a name=\"0\"><h2>\u00cdndice</h2></a><br>\n",
      "<a href=\"#1.\"> **1.Presentaci\u00f3n del framework**</a><br>\n",
      "<a href=\"#1.1\">1.1 \u00bfQu\u00e9 es AngularJS?</a><br>\n",
      "<a href=\"#1.2\">1.2 Tutoriales</a><br>\n",
      "<a href=\"#2.\">**2. Estructura del proyecto**</a><br>\n",
      "<a href=\"#2.1\">2.1 bower components</a><br>\n",
      "<a href=\"#2.2\">2.2 Css</a><br>\n",
      "<a href=\"#2.3\">2.3 Img</a><br>\n",
      "<a href=\"#2.4\">2.4 JQuery</a><br>\n",
      "<a href=\"#2.5\">2.5 Index.html</a><br>\n",
      "<a href=\"#2.6\">2.6 partials</a><br>\n",
      "<a href=\"#3.\">**3. La carpeta js**</a><br>\n",
      "<a href=\"#3.1\">3.1 app.js</a><br>\n",
      "<a href=\"#3.1.1\">3.1.1 *Definici\u00f3n de la aplicaci\u00f3n de Angular*</a><br>\n",
      "<a href=\"#3.1.2\">3.1.2 *Rutas en Angular*</a><br>\n",
      "<a href=\"#3.2\">3.2 controllers.js</a><br>\n",
      "<a href=\"#3.3\">3.3 directives.js</a><br>\n",
      "<a href=\"#3.4\">3.4 filters.js</a><br>\n",
      "<a href=\"#3.5\">3.5 services</a><br>\n",
      "<a href=\"#3.6\">3.6 animations.js</a><br>\n",
      "<a href=\"#4.\">**4. Yachtum**</a><br>\n",
      "<a href=\"#4.\">4.1 P\u00e1gina principal de b\u00fasquedas</a><br>\n",
      "<a href=\"#5.\">**5. Tutorial 1: Creando un panel de b\u00fasquedas**</a><br>\n",
      "<a href=\"#5.1\">5.1 Plantilla HTML</a><br>\n",
      "<a href=\"#5.2\">5.2 Controlador del search panel</a><br>\n",
      "<a href=\"#5.3\">5.3 Definiendo la directiva</a><br>\n",
      "<a href=\"#5.4\">5.4 Filtros</a><br>\n",
      "<a href=\"#5.4.1\">*5.4.1 Usando un solo filtro.*</a><br>\n",
      "<a href=\"#5.4.2\">*5.4.2 Combinando filtros*</a><br>\n",
      "<a href=\"#5.4.2.1\">*5.4.2.1 La directiva ng-repeat*</a><br>\n",
      "<a href=\"#5.4.2.2\">*5.4.2.2 Directiva filter*</a><br>\n",
      "<a href=\"#5.4.2.3\">*5.4.2.3 Directiva orderBy*</a><br>\n",
      "<a href=\"#5.4.2.4\">*5.4.2.4 Combinando diferentes filtros sobre una misma lista*</a><br>\n",
      "<a href=\"#6.\">**6. Futuras versiones**</a><br>"
     ]
    },
    {
     "cell_type": "heading",
     "level": 2,
     "metadata": {},
     "source": [
      "Imports"
     ]
    },
    {
     "cell_type": "markdown",
     "metadata": {},
     "source": [
      " Para que el notebook funcione como es debido es necesario importar funciones de display del notebook y cargar las im\u00e1genes para mostrarlas cuando sea necesario."
     ]
    },
    {
     "cell_type": "code",
     "collapsed": false,
     "input": [
      "import os\n",
      "from IPython.display import HTML\n",
      "from IPython.display import display_pretty, display_html, display_jpeg, display_png, display_json, display_latex, display_svg\n",
      "from IPython.display import Image\n",
      "from IPython.display import FileLink, FileLinks"
     ],
     "language": "python",
     "metadata": {},
     "outputs": [],
     "prompt_number": 1
    },
    {
     "cell_type": "code",
     "collapsed": false,
     "input": [
      "%cd\n",
      "app=Image(filename='AngularImg/App.png')\n",
      "route=Image(filename='AngularImg/route.png')\n",
      "controller=Image(filename='AngularImg/controller.png')\n",
      "directive=Image(filename='AngularImg/directive.png')\n",
      "search=Image(filename='AngularImg/search.png')"
     ],
     "language": "python",
     "metadata": {},
     "outputs": [
      {
       "output_type": "stream",
       "stream": "stdout",
       "text": [
        "/home/ea\n"
       ]
      }
     ],
     "prompt_number": 2
    },
    {
     "cell_type": "code",
     "collapsed": false,
     "input": [
      "HTML(\"\"\"<style>\n",
      "div.warn {    \n",
      "    background-color: #fcf2f2;\n",
      "    border-color: #dFb5b4;\n",
      "    border-left: 5px solid #dfb5b4;\n",
      "    padding: 0.5em;\n",
      "    }\n",
      "div.tip {    \n",
      "    background-color: #E0F8F7;\n",
      "    border-color: #58FAF4;\n",
      "    border-left: 5px solid #0B615E;\n",
      "    padding: 0.5em;\n",
      "    }\n",
      " </style> \"\"\"+\"\"\"<div class=tip> Ahora ya se pueden usar tips</div>\"\"\")\n"
     ],
     "language": "python",
     "metadata": {},
     "outputs": [
      {
       "html": [
        "<style>\n",
        "div.warn {    \n",
        "    background-color: #fcf2f2;\n",
        "    border-color: #dFb5b4;\n",
        "    border-left: 5px solid #dfb5b4;\n",
        "    padding: 0.5em;\n",
        "    }\n",
        "div.tip {    \n",
        "    background-color: #E0F8F7;\n",
        "    border-color: #58FAF4;\n",
        "    border-left: 5px solid #0B615E;\n",
        "    padding: 0.5em;\n",
        "    }\n",
        " </style> <div class=tip> Ahora ya se pueden usar tips</div>"
       ],
       "metadata": {},
       "output_type": "pyout",
       "prompt_number": 3,
       "text": [
        "<IPython.core.display.HTML at 0xb6648b2c>"
       ]
      }
     ],
     "prompt_number": 3
    },
    {
     "cell_type": "heading",
     "level": 2,
     "metadata": {},
     "source": [
      "<a name=\"1.\" href=\"#0\">1.</a> Presentaci\u00f3n del framework"
     ]
    },
    {
     "cell_type": "heading",
     "level": 3,
     "metadata": {},
     "source": [
      "<a name=\"1.1\">1.1</a> <a href=\"https://docs.angularjs.org/guide/introduction \">\u00bfQu\u00e9 es AngularJS?<a>"
     ]
    },
    {
     "cell_type": "markdown",
     "metadata": {},
     "source": [
      "AngularJS es un framework de desarrollo web basado en JavaScript e impulsado por Google que permite el desarrollo de aplicaciones web. Permite extender las funcionalidades de HTML5 de manera f\u00e1cil y estructurada. En el siguiente link puedes acceder <a href=\"https://docs.angularjs.org/guide\"> la guia del desarrollador de AngularJS</a>, en la se exponen las funcionalidades principales del framework. \n",
      "\n",
      "Hemos elegido Angular debido a su versatilidad, simplicidad y capacidad organizativa del c\u00f3digo generado. Adem\u00e1s nos ofrece control total sobre c\u00f3mo distribuir la carga de trabajo entre el servidor y el usuario de la aplicaci\u00f3n."
     ]
    },
    {
     "cell_type": "code",
     "collapsed": false,
     "input": [
      "HTML('<iframe src=\"https://docs.angularjs.org/guide\" width=1000 height=400></iframe>')"
     ],
     "language": "python",
     "metadata": {},
     "outputs": [
      {
       "html": [
        "<iframe src=\"https://docs.angularjs.org/guide\" width=1000 height=400></iframe>"
       ],
       "metadata": {},
       "output_type": "pyout",
       "prompt_number": 55,
       "text": [
        "<IPython.core.display.HTML at 0xb39910cc>"
       ]
      }
     ],
     "prompt_number": 55
    },
    {
     "cell_type": "heading",
     "level": 3,
     "metadata": {},
     "source": [
      "<a name=\"1.2\">1.2</a> Tutoriales"
     ]
    },
    {
     "cell_type": "markdown",
     "metadata": {},
     "source": [
      "A continuaci\u00f3n expondremos los tutoriales que se han utilizado como base a la aplicaci\u00f3n desarrollada en este proyecto. El primer tutorial que utilizamos, <a href=\"http://campus.codeschool.com/courses/shaping-up-with-angular-js/intro\">Shaping up with AngularJS</a>, es un curso sobre angular de <a href=\"https://www.codeschool.com/\"> Code School</a> en el que se explica paso a paso como contruir una tienda de gemas. Es un curso que es posible realizar desde el navegador.\n",
      "\n",
      "El segundo tutorial, es un ejemplo sobre c\u00f3mo elaborar un <a href=\"https://docs.angularjs.org/tutorial\">cat\u00e1logo de tel\u00e9fonos</a> que encontramos en la p\u00e1gina de Angular. En \u00e9l se explica c\u00f3mo utilizar las funcionalidades b\u00e1sicas de Angular de una manera un tanto m\u00e1s convencional que en $Shaping$ $up$ $with$ $AngularJS$."
     ]
    },
    {
     "cell_type": "markdown",
     "metadata": {},
     "source": [
      "<div class=tip>\n",
      "**Tip:** Es recomendable empezar por el tutorial de Code School. Es posible realizarlo online, y tendr\u00e1s todo el material necesario para realizarlo a mano y no te tendr\u00e1s que preocupar de configurar nada.</div>"
     ]
    },
    {
     "cell_type": "heading",
     "level": 2,
     "metadata": {},
     "source": [
      "<a name=\"2.\" href=\"#0\">2.</a> Estructura del proyecto"
     ]
    },
    {
     "cell_type": "markdown",
     "metadata": {},
     "source": [
      "Todo el proyecto se encuentra dentro de la carpeta Yachtum de directorio personal. A continuaci\u00f3n se detallar\u00e1n los aspectos m\u00e1s relevantes de su contenido. Se dedicar\u00e1 un cap\u00edtulo entero a la carpeta <a href=\"#3.>\">js</a>, ya que en ella se encuentras las funcionalidades principales de AngularJS."
     ]
    },
    {
     "cell_type": "markdown",
     "metadata": {},
     "source": [
      "<div class=tip>\n",
      "**Tip:** Para trabajar con AngularJS recomendamos el uso de <a href=\"http://www.sublimetext.com/\"> Sublime Text</a>, que ya esta configurado y listo para usarse en la m\u00e1quina virtual ejecutando la siguiente celda.\n",
      "<div/>"
     ]
    },
    {
     "cell_type": "code",
     "collapsed": false,
     "input": [
      "%cd\n",
      "%cd Sublime\\ Text\\ 2/\n",
      "os.system(\"sudo ./sublime_text&\")"
     ],
     "language": "python",
     "metadata": {},
     "outputs": [
      {
       "output_type": "stream",
       "stream": "stdout",
       "text": [
        "/home/ea\n",
        "/home/ea/Sublime Text 2\n"
       ]
      },
      {
       "metadata": {},
       "output_type": "pyout",
       "prompt_number": 16,
       "text": [
        "0"
       ]
      }
     ],
     "prompt_number": 16
    },
    {
     "cell_type": "heading",
     "level": 3,
     "metadata": {},
     "source": [
      "<a name=\"2.1\">2.1</a> Bower_components"
     ]
    },
    {
     "cell_type": "markdown",
     "metadata": {},
     "source": [
      "Esta carpeta contiene las dependencias neccesarias para ejecutar la aplicaci\u00f3n. En AngularJS las dependencias est\u00e1n gestionadas mediante <a href=\"http://bower.io/\">Bower</a>."
     ]
    },
    {
     "cell_type": "markdown",
     "metadata": {},
     "source": [
      "<div class=tip>\n",
      "**Tip:** En el tutorial de  <a href=\"https://docs.angularjs.org/tutorial\">phonecat-app</a> se explica c\u00f3mo se utiliza bower.\n",
      "</div>"
     ]
    },
    {
     "cell_type": "heading",
     "level": 3,
     "metadata": {},
     "source": [
      "<a name=\"2.2\">2.2</a> Css"
     ]
    },
    {
     "cell_type": "markdown",
     "metadata": {},
     "source": [
      "Aqu\u00ed se encuentras los css que utilizaremos para $Yachtum$. Podemos contar con unos css dise\u00f1ados por Mar\u00eda Vicente e implementados por F\u00e9lix Sandoval que dar\u00e1n un aire profesional a nuestra aplicaci\u00f3n."
     ]
    },
    {
     "cell_type": "heading",
     "level": 3,
     "metadata": {},
     "source": [
      "<a name=\"2.3\">2.3</a> Img"
     ]
    },
    {
     "cell_type": "markdown",
     "metadata": {},
     "source": [
      "En esta carpeta se encuentran las im\u00e1genes utilizadas en $Yachtum$. Su estructura es la siguiente:"
     ]
    },
    {
     "cell_type": "code",
     "collapsed": false,
     "input": [
      "%cd\n",
      "%cd Yachtum/app/img\n",
      "!ls"
     ],
     "language": "python",
     "metadata": {},
     "outputs": [
      {
       "output_type": "stream",
       "stream": "stdout",
       "text": [
        "/home/ea\n",
        "/home/ea/Yachtum/app/img\n",
        "banner-bottom.png  glyphicons-halflings.png\t   Logo.png\r\n",
        "barcos\t\t   glyphicons-halflings-white.png  phones\r\n"
       ]
      }
     ],
     "prompt_number": 57
    },
    {
     "cell_type": "heading",
     "level": 3,
     "metadata": {},
     "source": [
      "<a name=\"2.4\">2.4</a> JQuery"
     ]
    },
    {
     "cell_type": "markdown",
     "metadata": {},
     "source": [
      "AngularJs funciona sobre JQuery, por lo que es necesario tenerlo instalado para que todo funcione correctamente."
     ]
    },
    {
     "cell_type": "heading",
     "level": 3,
     "metadata": {},
     "source": [
      "<a name=\"2.5\">2.5</a> Index.html"
     ]
    },
    {
     "cell_type": "markdown",
     "metadata": {},
     "source": [
      "Este archivo, juntamente con app.js, ser\u00e1 el n\u00facleo de la aplicaci\u00f3n. En \u00e9l definiremos el esqueleto de nuestra p\u00e1gina principal, importando las dependencias de nuestra aplicaci\u00f3n y definiendo el cuerpo de la p\u00e1gina como \" div ng-view\" para que se cargue all\u00ed toda nuestra aplicaci\u00f3n. En nuestro caso, adem\u00e1s cargaremos el men\u00fa de navegaci\u00f3n fuera de la vista de la p\u00e1gina porque queremos que tenga un comportamiento ajeno a \u00e9sta."
     ]
    },
    {
     "cell_type": "markdown",
     "metadata": {},
     "source": [
      "<div class=tip>\n",
      "**Tip:** Evita al m\u00e1ximo llenar de c\u00f3digo este archivo. Si est\u00e1s programando bien deber\u00edas escribir el c\u00f3digo en archivos separados y cargarlo desde directivas o mediante rutas.</div>"
     ]
    },
    {
     "cell_type": "heading",
     "level": 3,
     "metadata": {},
     "source": [
      "<a name=\"2.6\">2.6</a> Partials"
     ]
    },
    {
     "cell_type": "markdown",
     "metadata": {},
     "source": [
      "En esta carpeta se incluye el c\u00f3digo html de nuestra p\u00e1gina separado en diferentes archivos. Encontramos una plantilla html para cada p\u00e1gina y para cada directiva de nuestra aplicaci\u00f3n."
     ]
    },
    {
     "cell_type": "markdown",
     "metadata": {},
     "source": [
      "<div class=tip>\n",
      "**Tip:** Sublime Text ofrece una vista muy c\u00f3moda para navegar por el proyecto.</div>"
     ]
    },
    {
     "cell_type": "code",
     "collapsed": false,
     "input": [
      "%cd\n",
      "%cd Yachtum/app/partials/\n",
      "!ls"
     ],
     "language": "python",
     "metadata": {},
     "outputs": [
      {
       "output_type": "stream",
       "stream": "stdout",
       "text": [
        "/home/ea\n",
        "/home/ea/Yachtum/app/partials\n",
        "barco-detail.html\t bottom-homepage.html  primer barcopanels\r\n",
        "barco-detail-pills.html  lista-compras.html    pruebas.html\r\n",
        "barco-panels.html\t mis-compras.html      search-box.html\r\n",
        "barco-review.html\t new-compras.html      search-list.html\r\n",
        "barco-search.html\t phone-list.html       top-menu.html\r\n"
       ]
      }
     ],
     "prompt_number": 30
    },
    {
     "cell_type": "heading",
     "level": 2,
     "metadata": {},
     "source": [
      "<a name=\"3.\" href=\"#0\">3.</a> La carpeta js"
     ]
    },
    {
     "cell_type": "markdown",
     "metadata": {},
     "source": [
      "En esta carpeta es donde se centra la l\u00f3gica de nuestra aplicaci\u00f3n basada en JavaScript. De esta forma podemos separar el c\u00f3digo html de la l\u00f3gica de control en sus diferentes componentes de forma clara y estructurada."
     ]
    },
    {
     "cell_type": "code",
     "collapsed": false,
     "input": [
      "%cd\n",
      "%cd Yachtum/app/js/\n",
      "!ls"
     ],
     "language": "python",
     "metadata": {},
     "outputs": [
      {
       "output_type": "stream",
       "stream": "stdout",
       "text": [
        "/home/ea\n",
        "/home/ea/Yachtum/app/js\n",
        "animations.js  app.js  controllers.js  directives.js  filters.js  services.js\r\n"
       ]
      }
     ],
     "prompt_number": 31
    },
    {
     "cell_type": "markdown",
     "metadata": {},
     "source": [
      "<div class=tip>\n",
      "**Tip:** Cada archivo de la carpeta se corresponde con una caracter\u00edstica esencial de AngularJS."
     ]
    },
    {
     "cell_type": "markdown",
     "metadata": {},
     "source": [
      "Vamos a aprovechar la estructura de la carpeta para explicar cada uno de los componentes b\u00e1sicos en los que se divide AngularJS. De esta forma aprenderemos de entrada a estructurar el c\u00f3digo para que sea limpio y *mantenible*. "
     ]
    },
    {
     "cell_type": "heading",
     "level": 3,
     "metadata": {},
     "source": [
      "<a name=\"3.1\">3.1</a> app.js"
     ]
    },
    {
     "cell_type": "markdown",
     "metadata": {},
     "source": [
      "En este archivo es donde definimos la aplicaci\u00f3n y los m\u00f3dulos que formar\u00e1n parte de ella. Adem\u00e1s, es aqu\u00ed donde se definen las rutas de nuestra aplicaci\u00f3n. Este archivo nos permite dividir la aplicaci\u00f3n en m\u00f3dulos de forma que el c\u00f3digo se pueda estructurar seg\u00fan los requerimientos del proyecto. \n",
      "\n",
      "A continuaci\u00f3n comentaremos los aspectos m\u00e1s importantes de este app.js:"
     ]
    },
    {
     "cell_type": "heading",
     "level": 4,
     "metadata": {},
     "source": [
      "<a name=\"3.1.1\">3.1.1</a> Definici\u00f3n de la aplicaci\u00f3n Angular"
     ]
    },
    {
     "cell_type": "markdown",
     "metadata": {},
     "source": [
      "En las siguientes l\u00edneas se observa c\u00f3mo se define nuestra aplicaci\u00f3n. Definimos la variable YachtumApp, que ser\u00e1 nuestra aplicaci\u00f3n y le indicamos que cargue los m\u00f3dulos 'ngRoute','YachtumControllers' y 'YachtumDirectives'. "
     ]
    },
    {
     "cell_type": "markdown",
     "metadata": {},
     "source": [
      "<div class=tip>\n",
      "**Tip:** Para que los m\u00f3dulos se puedan importar correctamente los archivos donde est\u00e1n definidos deben cargarse en index.html.</div>"
     ]
    },
    {
     "cell_type": "code",
     "collapsed": false,
     "input": [
      "app"
     ],
     "language": "python",
     "metadata": {},
     "outputs": [
      {
       "metadata": {},
       "output_type": "pyout",
       "png": "[encoded data removed]",
       "prompt_number": 33,
       "text": [
        "<IPython.core.display.Image at 0xb655b80c>"
       ]
      }
     ],
     "prompt_number": 33
    },
    {
     "cell_type": "markdown",
     "metadata": {},
     "source": [
      "<div class=tip>\n",
      "**Tip**: Esto que acabamos de hacer se llama <a href=\"https://docs.angularjs.org/guide/di\">Dependency Injection</a> y en el link se ofrece una explicaci\u00f3n detallada de su funcionamiento.</div>"
     ]
    },
    {
     "cell_type": "heading",
     "level": 4,
     "metadata": {},
     "source": [
      "<a name=\"3.1.2\">3.1.2</a> Rutas"
     ]
    },
    {
     "cell_type": "markdown",
     "metadata": {},
     "source": [
      "Gracias al m\u00f3dulo $routeProvider podemos controlar c\u00f3mo nuestra aplicaci\u00f3n gestionar\u00e1 las rutas. En el ejemplo mostrado indicamos que cuando la ruta solicitada sea **'/search'** se cargar\u00e1 el archivo **barco-search.html** ubicado en **/partials** y cuya l\u00f3gica de control estar\u00e1 definida en el controlador **BarcoListCtrl**."
     ]
    },
    {
     "cell_type": "code",
     "collapsed": false,
     "input": [
      "route"
     ],
     "language": "python",
     "metadata": {},
     "outputs": [
      {
       "metadata": {},
       "output_type": "pyout",
       "png": "[encoded data removed]",
       "prompt_number": 35,
       "text": [
        "<IPython.core.display.Image at 0xb655b8ec>"
       ]
      }
     ],
     "prompt_number": 35
    },
    {
     "cell_type": "markdown",
     "metadata": {},
     "source": [
      "<div class=tip>\n",
      "**Tip**: Puede que te interese echar un vistazo a la documentaci\u00f3n de <a href\"https://docs.angularjs.org/api/ngRoute/provider/$routeProvider\"> routeProvider.</a>"
     ]
    },
    {
     "cell_type": "heading",
     "level": 3,
     "metadata": {},
     "source": [
      "<a name=\"3.2\">3.2</a> controllers.js"
     ]
    },
    {
     "cell_type": "markdown",
     "metadata": {},
     "source": [
      "Aqu\u00ed es donde escribiremos la l\u00f3gica de control de nuestras directivas y de los elementos que implementemos en las p\u00e1ginas html. \n",
      "\n",
      "En AngularJS la l\u00f3gica de la aplicaci\u00f3n se separa del c\u00f3digo html mediante el uso de <a href=\"https://docs.angularjs.org/guide/controller\">**Controllers**</a>. Un **Controller** es un m\u00f3dulo que agrupa un conjunto de funciones encargadas de una parte de la l\u00f3gica de la aplicaci\u00f3n.\n",
      "\n",
      "En este ejemplo mostramos **ComprasController**, el controlador que se encargar\u00e1 de la gesti\u00f3n de las compras de la p\u00e1gina. En primer lugar se puede observar c\u00f3mo despu\u00e9s de definir su nombre se inyectan las dependencias que el controlador utilizar\u00e1. En este caso las dependencias ser\u00e1n **scope ** , **routeParams ** , **$http**. Para utilizarlas dentro del controlador primero se incluir\u00e1n dentro del *array* y despu\u00e9s se pasar\u00e1n como par\u00e1metros de la funci\u00f3n.\n",
      "\n",
      "Dentro del controlador definiremos las funciones que realizar\u00e1. En este caso realizar\u00e1 una petici\u00f3n http y asignar\u00e1 la respuesta a la variable *user*. Adem\u00e1s, se definir\u00e1 una segunda variable que contendr\u00e1 las compras del usuario cargado.\n",
      "\n",
      "Tambi\u00e9n se ha definido una funci\u00f3n **addCompra** en la que se guardar\u00e1 la compra pasada por par\u00e1metro y se a\u00f1adir\u00e1 al **$scope**."
     ]
    },
    {
     "cell_type": "code",
     "collapsed": false,
     "input": [
      "controller"
     ],
     "language": "python",
     "metadata": {},
     "outputs": [
      {
       "metadata": {},
       "output_type": "pyout",
       "png": "[encoded data removed]",
       "prompt_number": 36,
       "text": [
        "<IPython.core.display.Image at 0xb6567c2c>"
       ]
      }
     ],
     "prompt_number": 36
    },
    {
     "cell_type": "markdown",
     "metadata": {},
     "source": [
      "<div class=tip>\n",
      "**Tip**: Los controles t\u00e9cnicamente pueden definirse en varios sitios, pero se recomienda agruparlos todos en un mismo m\u00f3dulo.</div>"
     ]
    },
    {
     "cell_type": "heading",
     "level": 3,
     "metadata": {},
     "source": [
      "<a name=\"3.3\">3.3</a> directives.js"
     ]
    },
    {
     "cell_type": "markdown",
     "metadata": {},
     "source": [
      "En este archivo es d\u00f3nde definimos las directivas de nuestra aplicaci\u00f3n. Las directivas son la forma que tiene AngularJS para extender las funcionalidades de HTML. Las directivas sirven para extender la sintaxis de HTML5 con los componentes programados con AngularJS. \n",
      "\n",
      "En este ejemplo podemos observar la directiva **listaCompras** que se encargar\u00e1 de mostrar las compras de un usuario. Para lograrlo primero definimos que nuestra directiva se utilizar\u00e1 como un elemento HTML mediante el comando **restrict:'E'**, en la segunda linea de c\u00f3digo definimos el archivo en el que est\u00e1 definido el c\u00f3digo HTML de nuestra directiva y en la tercera indicamos que la l\u00f3gica de la directiva vendr\u00e1 definida por **ComprasController**."
     ]
    },
    {
     "cell_type": "code",
     "collapsed": false,
     "input": [
      "directive"
     ],
     "language": "python",
     "metadata": {},
     "outputs": [
      {
       "metadata": {},
       "output_type": "pyout",
       "png": "[encoded data removed]",
       "prompt_number": 37,
       "text": [
        "<IPython.core.display.Image at 0xb6567b8c>"
       ]
      }
     ],
     "prompt_number": 37
    },
    {
     "cell_type": "heading",
     "level": 3,
     "metadata": {},
     "source": [
      "<a name=\"3.4\">3.4</a> filters.js"
     ]
    },
    {
     "cell_type": "markdown",
     "metadata": {},
     "source": [
      "En este archivo definimos los filtros personalizados."
     ]
    },
    {
     "cell_type": "heading",
     "level": 3,
     "metadata": {},
     "source": [
      "<a name=\"3.5\">3.5</a> services.js"
     ]
    },
    {
     "cell_type": "code",
     "collapsed": false,
     "input": [],
     "language": "python",
     "metadata": {},
     "outputs": [],
     "prompt_number": 57
    },
    {
     "cell_type": "heading",
     "level": 3,
     "metadata": {},
     "source": [
      "<a name=\"3.4\">3.4</a> animations.js"
     ]
    },
    {
     "cell_type": "code",
     "collapsed": false,
     "input": [],
     "language": "python",
     "metadata": {},
     "outputs": [],
     "prompt_number": 57
    },
    {
     "cell_type": "heading",
     "level": 2,
     "metadata": {},
     "source": [
      "<a name=\"4.\" href=\"#0\">4.</a> <a href=\"http://localhost:8000/app/index.html#/search\">Yachtum</a>"
     ]
    },
    {
     "cell_type": "markdown",
     "metadata": {},
     "source": [
      "Esta aplicaci\u00f3n es un ejemplo del tipo de aplicaciones para las que AngularJs es ideal. *Yachtum* es un portal web de alquiler de barcos en las que un cliente puede buscar un barco para alguilar seleccionando unas fechas para su viaje y un puerto desde el que embarcarse y se le mostraran una lista de embarcaciones que tendr\u00e1 a su disposici\u00f3n para alquilar."
     ]
    },
    {
     "cell_type": "markdown",
     "metadata": {},
     "source": [
      "<div class=tip>**Tip:** Ejecuta las siguientes celdas para empezar a trabajar r\u00e1pidamente. Le primera ejecutar\u00e1 un servidor *node* desde el que servir la web y la segunda cargar\u00e1 el editor de textos.</div> "
     ]
    },
    {
     "cell_type": "code",
     "collapsed": false,
     "input": [
      "%cd\n",
      "%cd Yachtum\n",
      "os.system('konsole&')\n",
      "#escribe en la consola:\n",
      "#npm start"
     ],
     "language": "python",
     "metadata": {},
     "outputs": [
      {
       "output_type": "stream",
       "stream": "stdout",
       "text": [
        "/home/ea\n",
        "/home/ea/Yachtum\n"
       ]
      },
      {
       "metadata": {},
       "output_type": "pyout",
       "prompt_number": 4,
       "text": [
        "0"
       ]
      }
     ],
     "prompt_number": 4
    },
    {
     "cell_type": "code",
     "collapsed": false,
     "input": [
      "%cd\n",
      "%cd Sublime\\ Text\\ 2/\n",
      "os.system(\"sudo ./sublime_text&\")"
     ],
     "language": "python",
     "metadata": {},
     "outputs": [
      {
       "output_type": "stream",
       "stream": "stdout",
       "text": [
        "/home/ea\n",
        "/home/ea/Sublime Text 2\n"
       ]
      },
      {
       "metadata": {},
       "output_type": "pyout",
       "prompt_number": 5,
       "text": [
        "0"
       ]
      }
     ],
     "prompt_number": 5
    },
    {
     "cell_type": "code",
     "collapsed": false,
     "input": [
      "HTML('<iframe src=\"http://localhost:8000/app/\" width=1200 height=450></iframe>')"
     ],
     "language": "python",
     "metadata": {},
     "outputs": [
      {
       "html": [
        "<iframe src=\"http://localhost:8000/app/\" width=1200 height=450></iframe>"
       ],
       "metadata": {},
       "output_type": "pyout",
       "prompt_number": 18,
       "text": [
        "<IPython.core.display.HTML at 0xb6579d6c>"
       ]
      }
     ],
     "prompt_number": 18
    },
    {
     "cell_type": "heading",
     "level": 3,
     "metadata": {},
     "source": [
      "<a name=\"4.1\">4.1</a> P\u00e1gina principal de b\u00fasquedas"
     ]
    },
    {
     "cell_type": "markdown",
     "metadata": {},
     "source": [
      "Desde la p\u00e1gina principal se puede realizar una b\u00fasqueda de barcos disponibles. Para poder realizar una b\u00fasqueda es necesario introducir un puerto de origen, una fecha de salida y una fecha de llegada. \n",
      "\n",
      "Una vez realizada la primera b\u00fasqueda se mostraran los resultados obtenidos en una lista. Es posible obtener una vista detallada de un barco haciendo click sobre su nombre. Al hacer click sobre el bot\u00f3n \"emb\u00e1rcate\" se proceder\u00e1 a la reserva del barco."
     ]
    },
    {
     "cell_type": "heading",
     "level": 3,
     "metadata": {},
     "source": [
      "<a name=\"4.1\">4.1</a> Vista en detalle del barco"
     ]
    },
    {
     "cell_type": "markdown",
     "metadata": {},
     "source": [
      "En esta vista se muestran las caracter\u00edsticas del barco seleccionado y es posible ver los comentarios dejados por los usuarios y dejar comentarios propios."
     ]
    },
    {
     "cell_type": "heading",
     "level": 2,
     "metadata": {},
     "source": [
      "<a name=\"5.\" href=\"#0\">5.</a> Tutorial 1: Creando un panel de b\u00fasquedas"
     ]
    },
    {
     "cell_type": "markdown",
     "metadata": {},
     "source": [
      "El panel de b\u00fasqueda es una directiva que nos permite implementar el panel con el que realizar las b\u00fasquedas de embarcaciones disponibles. A continuaci\u00f3n explicaremos todo el proceso que hay que llevar a cabo para implementar este elmento utilizando AngularJS."
     ]
    },
    {
     "cell_type": "code",
     "collapsed": false,
     "input": [
      "HTML(\"\"\"<div class=\"l-main\" ng-controller=\"BarcoListCtrl as listCtrl\">\n",
      "    <div class=\"l-main-h\">\n",
      "        <div class=\"l-submain\"  style=\"background: #FFF url('img/slider2.png') center; \">\n",
      "          <div class=\"l-submain-h g-html\">\n",
      "                <div class=\"container-fluid\">\n",
      "                    <div class=\"container-fluid\">\n",
      "                        <div class=\"col-md-4\">\n",
      "                            <!--Sidebar content-->               \n",
      "                        </div>\n",
      "                        <div class=\"col-md-4\" >    \n",
      "                        <h4 ng-show=\"listCtrl.searchClicked(11)\">Encuentre su barco perfecto y disfrute de sus ventajas</h4>\n",
      "                        <h4 ng-show=\"listCtrl.searchClicked(10)\">Resultados de la b\u00fasqueda para</h4>\n",
      "                        <form name=\"reviewForm\" ng-submit=\"listCtrl.clickSearchb(10)\">\n",
      "                            <div class=\"row\">\n",
      "                               <div class=\"col-md-12\"> \n",
      "                                    <div ng-show=\"listCtrl.searchClicked(12)\">Selecciona un puerto:</div>\n",
      "                                    <div ng-show=\"listCtrl.searchClicked(12)\">Puerto seleccionado:</div>\n",
      "                                    <select ng-options=\"puerto for puerto in listaPuertos\" ng-model=\"barco.puerto\" required>     \n",
      "                                        <option value=\"\" >-- Elige tu puerto de origen --</option>\n",
      "                                    </select>\n",
      "                                </div>\n",
      "                            </div>\n",
      "\n",
      "                            <div class=\"g-cols\">   \n",
      "                                <div class=\"one-half\">  \n",
      "                                    <p>fecha de salida <input type=\"date\" ng-model=\"dstart\" min=\"{{listCtrl.today()| date:'mm/dd/yyyy'}}\" required> </p>\n",
      "                                </div>\n",
      "                                <div class=\"one-half\">  \n",
      "                                    <p>fecha de llegada <input type=\"date\" min=\"{{dstart}}\" required=\"{{dstart}}\" ng-model=\"dend\" required></p>\n",
      "                                </div>\n",
      "                            </div>\n",
      "                            \n",
      "                            <div class=\"row\">\n",
      "                                <div class=\"col-md-7\">          \n",
      "                                    <!--Embarcaci\u00f3n:-->\n",
      "                                    <select placeholder=\"Selecciona un puerto\" ng-options=\"tipoBarco for puerto in listaTiposBarco\" ng-model=\"tiposBarco\" >     \n",
      "                                    \n",
      "                                    <option value=\"\">--Elige el tipo de Barco--</option>\n",
      "                                    </select>\n",
      "                                </div>\n",
      "                                <div class=\"col-md-4\">\n",
      "                                    <input type=\"submit\" class=\"btn btn-primary pull-right\" value=\"Buscar\" />\n",
      "                                </div>\n",
      "                            </div>      \n",
      "                        <form>\n",
      "                        </div>\n",
      "                    </div>                                      \n",
      "                </div>\n",
      "            </div>\n",
      "        </div>\n",
      "        \n",
      "    </div>\n",
      "</div>\"\"\")"
     ],
     "language": "python",
     "metadata": {},
     "outputs": [
      {
       "html": [
        "<div class=\"l-main\" ng-controller=\"BarcoListCtrl as listCtrl\">\n",
        "    <div class=\"l-main-h\">\n",
        "        <div class=\"l-submain\"  style=\"background: #FFF url('img/slider2.png') center; \">\n",
        "          <div class=\"l-submain-h g-html\">\n",
        "                <div class=\"container-fluid\">\n",
        "                    <div class=\"container-fluid\">\n",
        "                        <div class=\"col-md-4\">\n",
        "                            <!--Sidebar content-->               \n",
        "                        </div>\n",
        "                        <div class=\"col-md-4\" >    \n",
        "                        <h4 ng-show=\"listCtrl.searchClicked(11)\">Encuentre su barco perfecto y disfrute de sus ventajas</h4>\n",
        "                        <h4 ng-show=\"listCtrl.searchClicked(10)\">Resultados de la b\u00fasqueda para</h4>\n",
        "                        <form name=\"reviewForm\" ng-submit=\"listCtrl.clickSearchb(10)\">\n",
        "                            <div class=\"row\">\n",
        "                               <div class=\"col-md-12\"> \n",
        "                                    <div ng-show=\"listCtrl.searchClicked(12)\">Selecciona un puerto:</div>\n",
        "                                    <div ng-show=\"listCtrl.searchClicked(12)\">Puerto seleccionado:</div>\n",
        "                                    <select ng-options=\"puerto for puerto in listaPuertos\" ng-model=\"barco.puerto\" required>     \n",
        "                                        <option value=\"\" >-- Elige tu puerto de origen --</option>\n",
        "                                    </select>\n",
        "                                </div>\n",
        "                            </div>\n",
        "\n",
        "                            <div class=\"g-cols\">   \n",
        "                                <div class=\"one-half\">  \n",
        "                                    <p>fecha de salida <input type=\"date\" ng-model=\"dstart\" min=\"{{listCtrl.today()| date:'mm/dd/yyyy'}}\" required> </p>\n",
        "                                </div>\n",
        "                                <div class=\"one-half\">  \n",
        "                                    <p>fecha de llegada <input type=\"date\" min=\"{{dstart}}\" required=\"{{dstart}}\" ng-model=\"dend\" required></p>\n",
        "                                </div>\n",
        "                            </div>\n",
        "                            \n",
        "                            <div class=\"row\">\n",
        "                                <div class=\"col-md-7\">          \n",
        "                                    <!--Embarcaci\u00f3n:-->\n",
        "                                    <select placeholder=\"Selecciona un puerto\" ng-options=\"tipoBarco for puerto in listaTiposBarco\" ng-model=\"tiposBarco\" >     \n",
        "                                    \n",
        "                                    <option value=\"\">--Elige el tipo de Barco--</option>\n",
        "                                    </select>\n",
        "                                </div>\n",
        "                                <div class=\"col-md-4\">\n",
        "                                    <input type=\"submit\" class=\"btn btn-primary pull-right\" value=\"Buscar\" />\n",
        "                                </div>\n",
        "                            </div>      \n",
        "                        <form>\n",
        "                        </div>\n",
        "                    </div>                                      \n",
        "                </div>\n",
        "            </div>\n",
        "        </div>\n",
        "        \n",
        "    </div>\n",
        "</div>"
       ],
       "metadata": {},
       "output_type": "pyout",
       "prompt_number": 5,
       "text": [
        "<IPython.core.display.HTML at 0xb65c136c>"
       ]
      }
     ],
     "prompt_number": 5
    },
    {
     "cell_type": "heading",
     "level": 3,
     "metadata": {},
     "source": [
      "<a name=\"5.1\">5.1</a> Plantilla HTML"
     ]
    },
    {
     "cell_type": "markdown",
     "metadata": {},
     "source": [
      "En este paso definiremos el aspecto de nuestra directiva.\n",
      "\n",
      "En primer lugar crearemos un nuevo archivo que contendr\u00e1 el c\u00f3digo HTML que se utilizar\u00e1 para representar el panel de b\u00fasquedas. En este caso lo llamaremos <a href=\"#\">search-box.html</a> y en su interior escribiremos lo siguiente:"
     ]
    },
    {
     "cell_type": "raw",
     "metadata": {},
     "source": [
      "<!--Contenedor principal del panel-->\n",
      "<div class=\"container-fluid\" ng-controller=\"BarcoListCtrl as listCtrl\">\n",
      "  <div class=\"container-fluid\">\n",
      "    <div class=\"col-md-4\">\n",
      "    </div>\n",
      "    <div class=\"col-md-5\" >    \n",
      "    <!--Alterna la cabecera seg\u00fan sea tu primera b\u00fasqueda o est\u00e9s modificando una b\u00fasqueda ya empezada-->    \n",
      "      <h4 ng-show=\"listCtrl.searchClicked(11)\">Encuentre su barco perfecto y disfrute de sus ventajas</h4>\n",
      "      <h4 ng-show=\"listCtrl.searchClicked(10)\">Resultados de la b\u00fasqueda para</h4>\n",
      "        \n",
      "    <!--formulario desde el que se introducen los par\u00e1metros de b\u00fasqueda-->    \n",
      "      <form name=\"reviewForm\" ng-submit=\"listCtrl.clickSearchb(10)\">\n",
      "        <div class=\"row\">\n",
      "           <div class=\"col-md-12\"> \n",
      "                <div ng-show=\"listCtrl.searchClicked(12)\">Selecciona un puerto:</div>\n",
      "                <div ng-show=\"listCtrl.searchClicked(12)\">Puerto seleccionado:</div>\n",
      "                <select ng-options=\"puerto for puerto in listaPuertos\" ng-model=\"barco.puerto\" required>     \n",
      "                    <option value=\"\" >-- Elige tu puerto de origen --</option>\n",
      "                </select>\n",
      "            </div>\n",
      "        </div>\n",
      "\n",
      "        <div class=\"row\">   \n",
      "            <div class=\"col-md-6\">  \n",
      "                <p>fecha de salida <input type=\"date\" ng-model=\"dstart\" min=\"{{listCtrl.today()| date:'mm/dd/yyyy'}}\"                  required> </p>\n",
      "            </div>\n",
      "            <div class=\"col-md-6\">  \n",
      "                <p>fecha de llegada <input type=\"date\" min=\"{{dstart}}\" required=\"{{dstart}}\" ng-model=\"dend\"                         required></p>\n",
      "            </div>\n",
      "        </div>\n",
      "        \n",
      "        <div class=\"row\">\n",
      "            <div class=\"col-md-7\">          \n",
      "                <!--Embarcaci\u00f3n:-->\n",
      "                <select placeholder=\"Selecciona un puerto\" ng-options=\"tipoBarco for puerto in listaTiposBarco\" ng-                    model=\"tiposBarco\" >     \n",
      "                \n",
      "                <option value=\"\">--Elige el tipo de Barco--</option>\n",
      "                </select>\n",
      "            </div>\n",
      "            <div class=\"col-md-4\">\n",
      "                <input type=\"submit\" class=\"btn btn-primary pull-right\" value=\"Buscar\" />\n",
      "            </div>\n",
      "        </div>      \n",
      "      </form>\n",
      "    </div>\n",
      "  </div>\n",
      "    \n",
      "<!--Utilizamos directivas para mostrar la lista de b\u00fasquedas-->    \n",
      "  <bottom-thumbnail ng-show=\"listCtrl.searchClicked(11)\"></bottom-thumbnail>\n",
      "  <div class=\"container-fluid\">\n",
      "   <search-list ng-show=\"listCtrl.searchClicked(10)\"></search-list>\n",
      "  </div>\n",
      "</div"
     ]
    },
    {
     "cell_type": "markdown",
     "metadata": {},
     "source": [
      "<div class=tip> **Tip:** La l\u00f3gica de control b\u00e1sicamente estar\u00e1 (salvo algunas palabras reservadas) incluida en las tags *ng-** y dentro de los s\u00edmbolos {{ }}"
     ]
    },
    {
     "cell_type": "markdown",
     "metadata": {},
     "source": [
      "Tal como se puede observar, toda la logica de la aplicaci\u00f3n esta incluida en directivas del tipo *ng-something*, por lo que queda separada del c\u00f3digo html utilizado para mostrar la directiva. Algunas de las directivas que aparecen en la plantilla son:"
     ]
    },
    {
     "cell_type": "raw",
     "metadata": {},
     "source": [
      "<input type=\"date\" ng-model=\"dstart\" min=\"{{listCtrl.today()| date:'mm/dd/yyyy'}}\" required> </p>"
     ]
    },
    {
     "cell_type": "markdown",
     "metadata": {},
     "source": [
      "**ng-model** asigna el valor introducido por el usuario a la variable **dstart**. **min** indica que el valor m\u00ednimo del formulario tiene que ser igual al d\u00eda de hoy. Esto se consigue utilizando la funci\u00f3n **today()** del controlador de la lista e indic\u00e1ndole mediante un filtro que se trata de una fecha. El campo **required** indica que este campo del formulario es obligatorio."
     ]
    },
    {
     "cell_type": "raw",
     "metadata": {},
     "source": [
      "<div ng-show=\"listCtrl.searchClicked(12)\">Selecciona un puerto:</div>"
     ]
    },
    {
     "cell_type": "markdown",
     "metadata": {},
     "source": [
      "<a href=\"https://docs.angularjs.org/api/ng/directive/ngShow\">**ng-show**</a> indica que el elemento se mostrar\u00e1 siempre que se cumpla la condici\u00f3n indicada. En este caso es que la funci\u00f3n **searchClicked()** de **listCtrl** retorne **true** al pasarle por par\u00e1metro 12. "
     ]
    },
    {
     "cell_type": "heading",
     "level": 3,
     "metadata": {},
     "source": [
      "<a name=\"5.2\">5.2</a> Controlador del search-panel"
     ]
    },
    {
     "cell_type": "markdown",
     "metadata": {},
     "source": [
      "Aqu\u00ed se puede ver c\u00f3mo se define el controlador del panel de b\u00fasqueda. Mediante la notaci\u00f3n *{{variable.atributo}}.* As\u00ed se puede acceder a las variables definidas en el <a href=\"https://docs.angularjs.org/api/ng/type/$rootScope.Scope\">**scope**</a> desde la plantilla html."
     ]
    },
    {
     "cell_type": "raw",
     "metadata": {},
     "source": [
      "yachtumControllers.controller('BarcoListCtrl',['$scope','$http', function($scope,$http) {\n",
      "\n",
      "<!--Funciones para obtener la lista de barco y los datos que se mostrar\u00e1n en pantalla-->\n",
      "  $http.get('barcos/barcos.json').success(function(data){\n",
      "  \t$scope.barcos=data;\n",
      "  });\t\n",
      "  $http.get('barcos/listaPuertos.json').success(function(data) {\n",
      "        $scope.listaPuertos = data;\n",
      "    });\n",
      "  $http.get('barcos/' + 'velero' + '.json').success(function(data) {\n",
      "      $scope.barcosd = data;\n",
      "    });\n",
      "<!--scope nos permite definir algo parecido a variables globales para pasar entre diferentes controladores-->\n",
      "  $scope.orderProp=\"age\"; \n",
      "  $scope.clicksearch=11;\n",
      "  $scope.orderBarcos = 'porder';\n",
      "  $scope.reverse=false;\n",
      " \n",
      "  this.today=function(){\n",
      "    return new Date();\n",
      "  }\n",
      "  $scope.end = new Date();  \n",
      "  $scope.minStartDate = $scope.end; //fixed date\n",
      "\n",
      "<--! esta es la l\u00f3gica que se usa para controlar las pesta\u00f1as--> \n",
      "  this.clickSearchb= function(setClickSearch){\n",
      "      $scope.clicksearch=setClickSearch;\n",
      "    };\n",
      "  this.searchClicked=function(checkTab){\n",
      "      return $scope.clicksearch===checkTab;\n",
      "    };\n",
      "}]);"
     ]
    },
    {
     "cell_type": "heading",
     "level": 3,
     "metadata": {},
     "source": [
      "<a name=\"5.3\">5.3</a> Definiendo la directiva"
     ]
    },
    {
     "cell_type": "markdown",
     "metadata": {},
     "source": [
      "Una vez se tiene el c\u00f3digo html y el controlador listo llega el momento de definir c\u00f3mo van a iteractuar con el usuario mediante la creaci\u00f3n de una directiva. En este caso la directiva creada es la siguiente:"
     ]
    },
    {
     "cell_type": "code",
     "collapsed": false,
     "input": [
      "search"
     ],
     "language": "python",
     "metadata": {},
     "outputs": [
      {
       "metadata": {},
       "output_type": "pyout",
       "png": "[encoded data removed]",
       "prompt_number": 67,
       "text": [
        "<IPython.core.display.Image at 0xb399196c>"
       ]
      }
     ],
     "prompt_number": 67
    },
    {
     "cell_type": "markdown",
     "metadata": {},
     "source": [
      "Aqu\u00ed se indica que la directiva se podr\u00e1 llamar como un elemento desde una plantilla html:"
     ]
    },
    {
     "cell_type": "raw",
     "metadata": {},
     "source": [
      "<barco-search></barco-search>"
     ]
    },
    {
     "cell_type": "markdown",
     "metadata": {},
     "source": [
      "Y que al hacerlo se presentar\u00e1 la plantilla search-box.html. No se hace ninguna menci\u00f3n expl\u00edcita al controlador porque se define *in situ* en la plantilla."
     ]
    },
    {
     "cell_type": "heading",
     "level": 3,
     "metadata": {},
     "source": [
      "<a name=\"5.4\" href=\"#0\">5.4</a> <a href=\"https://docs.angularjs.org/guide/filter\">Filtros</a>"
     ]
    },
    {
     "cell_type": "markdown",
     "metadata": {},
     "source": [
      "Los filtros son los elementos de Angular que permiten dar formato a las expresiones que ser\u00e1n mostradas al usuario. Existen diversos filtros predefinidos y en caso de necesitarlo el usuario puede crear sus propios filtros."
     ]
    },
    {
     "cell_type": "markdown",
     "metadata": {},
     "source": [
      "<div class=tip>\n",
      "**Tip:** Los filtros que te conviene tener a mano son:\n",
      "<table>\n",
      "<tr>\n",
      "<td> **Filtro**</td>\n",
      "<td>**\u00datil para**</td>\n",
      "</tr>\n",
      "<td> <a href=\"https://docs.angularjs.org/api/ng/filter/date\">Date</a></td>\n",
      "<td> Si trabajas con fechas \u00e9ste es tu filtro.</td>\n",
      "</tr>\n",
      "\n",
      "<tr>\n",
      "<td> <a href=\"https://docs.angularjs.org/api/ng/filter/currency\">Currency</a></td>\n",
      "<td> Dinero. Permite utilizar cualquier singno para designar las cantidades.</td>\n",
      "</tr>\n",
      "<tr>\n",
      "<td> <a href=\"https://docs.angularjs.org/api/ng/filter/filter\">Filter</a></td>\n",
      "<td> Filtro multiusos. Con \u00e9l puedes filtrar listas, seleccionar par\u00e1metros y utilizar el par\u00e1metro introducido como filtro para mostrar resultados.</td>\n",
      "</tr>\n",
      "<tr>\n",
      "<td> <a href=\"https://docs.angularjs.org/api/ng/filter/orderBy\">OrderBy</a></td>\n",
      "<td> Sirve para ordenar listas de elementos. Su uso es {{ orderBy_expression | orderBy : expression : reverse}} y permite indicar elemento sobre el que ordenar y orden ascendente o descendente.</td>\n",
      "</tr>\n",
      "</table></div>"
     ]
    },
    {
     "cell_type": "heading",
     "level": 4,
     "metadata": {},
     "source": [
      "<a name=\"5.4.1\">5.4.1</a> Usando un solo filtro."
     ]
    },
    {
     "cell_type": "markdown",
     "metadata": {},
     "source": [
      "En este ejemplo el filtro utilizado es Date. Con su utilizaci\u00f3n pretendemos asegurar que el dato introducido se corresponde con una fecha, y al asignarle el formato 'mm/dd/yyyy' nos aseguramos de que no habr\u00e1 problemas a la hora de comparar la fecha con la elegida por el usuario.\n",
      "\n",
      "| date:'mm/dd/yyyy'"
     ]
    },
    {
     "cell_type": "markdown",
     "metadata": {},
     "source": [
      "Un ejemplo m\u00e1s interesante del uso de filtros ser\u00eda el incorporado en la directiva de la lista de barcos. En este archivo ubicado en search-list.html encontramos la siguiente l\u00ednea de c\u00f3digo:"
     ]
    },
    {
     "cell_type": "heading",
     "level": 4,
     "metadata": {},
     "source": [
      "<a name=\"5.4.2\">5.4.2</a> Combinando filtros"
     ]
    },
    {
     "cell_type": "raw",
     "metadata": {},
     "source": [
      "<section class=\"panel\" ng-repeat=\"barco in barcos |filter:barco.puerto|orderBy:orderBarcos:reverse\" >"
     ]
    },
    {
     "cell_type": "heading",
     "level": 5,
     "metadata": {},
     "source": [
      "<a name=\"5.4.2.1\">5.4.2.1</a> La directiva ng-repeat"
     ]
    },
    {
     "cell_type": "markdown",
     "metadata": {},
     "source": [
      "En esta celda podemos ver la aplicaci\u00f3n combinada de dos filtros para realizar busquedas en una lista de elementos. Mediante la directiva <a href=\"https://docs.angularjs.org/api/ng/directive/ngRepeat\">**ng-repeat**</a> indicamos a la aplicaci\u00f3n que ejecute el c\u00f3digo de dentro del elemento **section** una vez para cada barco, creando una variable barco que contendra cada uno de los elementos de la lista de objetos **barcos**."
     ]
    },
    {
     "cell_type": "markdown",
     "metadata": {},
     "source": [
      "<div class=warn>**Atenci\u00f3n:** la variable barcos estar\u00e1 definida en el controlador como $scope.barcos. De c\u00f3mo esta variable toma los valores se encarga el controlador. T\u00fa asume que tienes lo que necesitas."
     ]
    },
    {
     "cell_type": "markdown",
     "metadata": {},
     "source": [
      "<div class=tip>**Tip:** Utiliza ng-repeat de forma an\u00e1loga a un bucle for pero para c\u00f3digo HTML5.</div>"
     ]
    },
    {
     "cell_type": "heading",
     "level": 5,
     "metadata": {},
     "source": [
      "<a name=\"5.4.2.2\">5.4.2.2</a> Directiva filter"
     ]
    },
    {
     "cell_type": "markdown",
     "metadata": {},
     "source": [
      "Mediante la estructura  **|filter:barco.puerto** indicamos a Angular que de la lista de elementos proporcionada por ng-repeat solo escoja las que tengan alg\u00fan elemento que coincida con *barco.puerto*."
     ]
    },
    {
     "cell_type": "markdown",
     "metadata": {},
     "source": [
      "<div class=warn>**Atenci\u00f3n:** barco.puerto hace referencia al puerto seleccionado en el formulario de b\u00fasqueda. En este caso se comparar\u00e1 el resultado del formulario con el campo *barco.puerto* de cada barco de la lista."
     ]
    },
    {
     "cell_type": "heading",
     "level": 5,
     "metadata": {},
     "source": [
      "<a name=\"5.4.2.3\">5.4.2.3</a> Directiva orderBy"
     ]
    },
    {
     "cell_type": "markdown",
     "metadata": {},
     "source": [
      "**|orderBy:orderBarcos:reverse** Indica a la aplicaci\u00f3n que ordene los resultados de b\u00fasqueda segun la variable **orderBarcos**, y mediante **reverse** indicamos que se tenga en cuenta el orden de la lista mediante una variable booleana que indicar\u00e1 orden ascendente o descendente."
     ]
    },
    {
     "cell_type": "markdown",
     "metadata": {},
     "source": [
      "<div class=tip>**Tip:** Puedes asignar valores a **reverse** y a la variable que utilices para ordenar de forma independiente, separando en el c\u00f3digo los criterios de selecci\u00f3n de orden y el de selecci\u00f3n de variable por la que ordenar."
     ]
    },
    {
     "cell_type": "heading",
     "level": 5,
     "metadata": {},
     "source": [
      "<a name=\"5.4.2.4\">5.4.2.4</a> Combinando diferentes filtros sobre una misma lista"
     ]
    },
    {
     "cell_type": "markdown",
     "metadata": {},
     "source": [
      "En este ejemplo hemos visto como concurren diferentes filtros (que adem\u00e1s dependen de variables diferentes) sobre una misma expresi\u00f3n. De esta manera podemos hacer que la lista de resultado sea filtrada por las diferentes opciones del formulario y adem\u00e1s podamos gestionar de manera independiente como se muestran los resultados filtrador.\n",
      "\n",
      "Adem\u00e1s, ser\u00eda posible a\u00f1adir m\u00e1s filtros separ\u00e1ndolos por el s\u00edmbolo **|**."
     ]
    },
    {
     "cell_type": "heading",
     "level": 2,
     "metadata": {},
     "source": [
      "<a name=\"6.\" href=\"#0\">6. </a> Futuras versiones"
     ]
    },
    {
     "cell_type": "markdown",
     "metadata": {},
     "source": [
      "Este tutorial no es m\u00e1s que una peque\u00f1a muestra de lo que puede ofrecer AngularJS como framework de programaci\u00f3n de aplicaciones web. Existen todav\u00eda un gran n\u00famero de aspectos del framework que no se han analizo, y que podr\u00edan dar lugar a futuros tutoriales.\n",
      "\n",
      "Entre estos temas destacan: Los servicios, La implementaci\u00f3n de una basde de datos con NodeJS o la creaci\u00f3n de animaciones y filtros personalizados."
     ]
    },
    {
     "cell_type": "markdown",
     "metadata": {},
     "source": [
      "Este tutorial y los que se realicen posteriormente estar\u00e1n disponibles de forma gratuita en el repositorio de Github de <a href=\"https://github.com/Guillem-db\"> Guillem Duran</a>."
     ]
    },
    {
     "cell_type": "code",
     "collapsed": false,
     "input": [],
     "language": "python",
     "metadata": {},
     "outputs": []
    }
   ],
   "metadata": {}
  }
 ]
}